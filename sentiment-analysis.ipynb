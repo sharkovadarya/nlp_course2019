{
 "cells": [
  {
   "cell_type": "markdown",
   "metadata": {},
   "source": [
    "# Logistic Regression"
   ]
  },
  {
   "cell_type": "code",
   "execution_count": null,
   "metadata": {},
   "outputs": [],
   "source": [
    "from sklearn.model_selection import GridSearchCV\n",
    "from sklearn.linear_model import LogisticRegression\n",
    "from sklearn.feature_extraction.text import CountVectorizer\n",
    "\n",
    "with open(\"files/texts_train.txt\") as f:\n",
    "    texts_train = f.readlines()\n",
    "texts_train = [x.strip() for x in texts_train]\n",
    "\n",
    "with open(\"files/scores_train.txt\") as f:\n",
    "    y_train = f.readlines()\n",
    "y_train = [x.strip() for x in y_train]\n",
    "\n"
   ]
  },
  {
   "cell_type": "code",
   "execution_count": null,
   "metadata": {},
   "outputs": [],
   "source": [
    "vect = CountVectorizer(ngram_range=(2, 2))\n",
    "x_train = vect.fit_transform(texts_train)\n",
    "feature_names = vect.get_feature_names()\n",
    "print(\"Number of features: {}\".format(len(feature_names)))\n",
    "\n"
   ]
  },
  {
   "cell_type": "code",
   "execution_count": null,
   "metadata": {},
   "outputs": [],
   "source": [
    "from sklearn.model_selection import GridSearchCV\n",
    "from sklearn.pipeline import Pipeline\n",
    "from sklearn.linear_model import LogisticRegression\n",
    "from sklearn.feature_extraction.text import TfidfVectorizer\n",
    "\n",
    "tfidf = TfidfVectorizer(strip_accents=None,\n",
    "                        lowercase=False,\n",
    "                        preprocessor=None)\n",
    "\n",
    "param_grid = [{'vect__ngram_range': [(2, 2)],\n",
    "               'clf__penalty': ['l1', 'l2'],\n",
    "               'clf__C': [1.0, 10.0, 100.0]}]\n",
    "\n",
    "grid = GridSearchCV(Pipeline([\n",
    "    ('vect', tfidf), \n",
    "    ('clf', LogisticRegression(random_state=0))]), \n",
    "                    param_grid,\n",
    "                    scoring='accuracy', \n",
    "                    cv=5,\n",
    "                    verbose=1,\n",
    "                    n_jobs=-1)\n",
    "grid.fit(x_train, y_train)\n",
    "print('Best parameter set: ' + str(grid.best_params_))\n",
    "print('Best accuracy: %.3f' + grid.best_score_)"
   ]
  },
  {
   "cell_type": "code",
   "execution_count": null,
   "metadata": {
    "scrolled": true
   },
   "outputs": [],
   "source": [
    "with open(\"files/dataset_40757_1.txt\") as f:\n",
    "    texts_test = f.readlines()\n",
    "texts_test = [x.strip() for x in texts_test]\n",
    "clf = lr = grid.best_estimator_\n",
    "clf.fit(x_train, y_train)\n",
    "preds = clf.predict(texts_test)\n",
    "\n",
    "for i in range(len(texts_test)):\n",
    "    print(preds[i])"
   ]
  },
  {
   "cell_type": "markdown",
   "metadata": {},
   "source": [
    "## Logistic Regression with Preprocessing and Stemming"
   ]
  },
  {
   "cell_type": "code",
   "execution_count": null,
   "metadata": {},
   "outputs": [],
   "source": [
    "import re\n",
    "from sklearn.model_selection import GridSearchCV\n",
    "from sklearn.pipeline import Pipeline\n",
    "from sklearn.linear_model import LogisticRegression\n",
    "from sklearn.feature_extraction.text import TfidfVectorizer\n",
    "from sklearn.feature_extraction.text import CountVectorizer\n",
    "from nltk.stem.snowball import RussianStemmer\n",
    "\n",
    "import nltk\n",
    "from nltk.corpus import stopwords\n",
    "nltk.download('stopwords')\n",
    "stop = stopwords.words('russian')\n",
    "\n",
    "\n",
    "def preprocessor(text):\n",
    "    emoticons = re.findall('(?::?|;|=)(?:-)?(?:\\)+|\\(|D|P)', text)\n",
    "    text = (re.sub('[\\W]+', ' ', text.lower()) + ' ' + ' '.join(emoticons).replace('-', ''))\n",
    "\n",
    "    return text\n",
    "\n",
    "\n",
    "stemmer = RussianStemmer()\n",
    "\n",
    "\n",
    "def tokenizer(text):\n",
    "    return text.split()\n",
    "\n",
    "\n",
    "def tokenizer_snowball(text):\n",
    "    return [stemmer.stem(word) for word in text.split()]\n",
    "\n",
    "\n",
    "param_grid = [{'clf__penalty': ['l1', 'l2'],\n",
    "               'clf__C': [1.0, 10.0, 100.0]},\n",
    "              ]\n",
    "\n",
    "lr_tfidf = Pipeline([('vect', CountVectorizer(preprocessor=preprocessor, tokenizer=tokenizer_snowball, ngram_range=(2, 2), stop_words=stop)),\n",
    "                     ('clf', LogisticRegression(random_state=0))])\n",
    "\n",
    "gs_lr_tfidf = GridSearchCV(lr_tfidf, param_grid,\n",
    "                           scoring='accuracy',\n",
    "                           cv=5,\n",
    "                           verbose=1,\n",
    "                           n_jobs=-1)"
   ]
  },
  {
   "cell_type": "code",
   "execution_count": null,
   "metadata": {},
   "outputs": [],
   "source": [
    "with open(\"files/texts_train.txt\") as f:\n",
    "    texts_train = f.readlines()\n",
    "texts_train = [x.strip() for x in texts_train]\n",
    "\n",
    "with open(\"files/scores_train.txt\") as f:\n",
    "    y_train = f.readlines()\n",
    "y_train = [x.strip() for x in y_train]\n",
    "\n",
    "gs_lr_tfidf.fit(texts_train, y_train)"
   ]
  },
  {
   "cell_type": "code",
   "execution_count": null,
   "metadata": {
    "scrolled": false
   },
   "outputs": [],
   "source": [
    "clf = gs_lr_tfidf.best_estimator_\n",
    "\n",
    "\n",
    "with open(\"files/dataset_40757_1.txt\") as f:\n",
    "    texts_test = f.readlines()\n",
    "texts_test = [x.strip() for x in texts_test]\n",
    "preds = clf.predict(texts_test)\n",
    "\n",
    "for i in range(len(texts_test)):\n",
    "    print(preds[i])"
   ]
  },
  {
   "cell_type": "markdown",
   "metadata": {},
   "source": [
    "# Stochastic Gradient Descent"
   ]
  },
  {
   "cell_type": "code",
   "execution_count": null,
   "metadata": {},
   "outputs": [],
   "source": [
    "from sklearn.linear_model import LogisticRegression\n",
    "from sklearn.linear_model import SGDRegressor\n",
    "from sklearn.feature_extraction.text import CountVectorizer, TfidfTransformer, TfidfVectorizer\n",
    "from sklearn.pipeline import Pipeline\n",
    "from nltk.stem.snowball import RussianStemmer\n",
    "from sklearn.model_selection import GridSearchCV\n",
    "import re\n",
    "import nltk\n",
    "import numpy as np\n",
    "from nltk.corpus import stopwords\n",
    "\n",
    "nltk.download('stopwords')\n",
    "stop = stopwords.words('russian')\n",
    "\n",
    "lr = LogisticRegression(random_state=1)\n",
    "\n",
    "with open(\"files/texts_train.txt\") as f:\n",
    "    texts_train = f.readlines()\n",
    "texts_train = [x.strip() for x in texts_train]\n",
    "\n",
    "with open(\"files/scores_train.txt\") as f:\n",
    "    y_train = f.readlines()\n",
    "y_train = np.asarray([x.strip() for x in y_train]).astype(np.float32)\n",
    "\n",
    "with open(\"files/dataset_40757_1.txt\") as f:\n",
    "    texts_test = f.readlines()\n",
    "texts_test = [x.strip() for x in texts_test]\n",
    "\n",
    "\n",
    "def preprocessor(text):\n",
    "    emoticons = re.findall('(?::?|;|=)(?:-)?(?:\\)+|\\(|D|P)', text)\n",
    "    text = (re.sub('[\\W]+', ' ', text.lower()) + ' ' + ' '.join(emoticons).replace('-', ''))\n",
    "\n",
    "    return text\n",
    "\n",
    "\n",
    "stemmer = RussianStemmer()\n",
    "\n",
    "\n",
    "def tokenizer(text):\n",
    "    return text.split()\n",
    "\n",
    "\n",
    "def tokenizer_snowball(text):\n",
    "    return [stemmer.stem(word) for word in text.split()]\n",
    "\n",
    "\n",
    "pipeline = Pipeline([\n",
    "        ('vect', CountVectorizer(ngram_range=(1, 3), preprocessor=preprocessor)),\n",
    "        ('tfidf', TfidfTransformer()),\n",
    "        ('clf',  SGDRegressor(random_state=0))]\n",
    ")\n"
   ]
  },
  {
   "cell_type": "code",
   "execution_count": null,
   "metadata": {},
   "outputs": [],
   "source": [
    "texts_train = [w.lower() for w in texts_train]\n",
    "learner = pipeline.fit(texts_train, y_train)\n"
   ]
  },
  {
   "cell_type": "code",
   "execution_count": null,
   "metadata": {},
   "outputs": [],
   "source": [
    "with open(\"files/dataset_40757_1.txt\") as f:\n",
    "    texts_test = f.readlines()\n",
    "texts_test = [x.strip() for x in texts_test]\n",
    "preds = learner.predict(texts_test)\n",
    "for val in preds:\n",
    "    print(int(round(val)))"
   ]
  },
  {
   "cell_type": "markdown",
   "metadata": {},
   "source": [
    "# fastText"
   ]
  },
  {
   "cell_type": "code",
   "execution_count": null,
   "metadata": {},
   "outputs": [],
   "source": [
    "import fasttext\n",
    "\n",
    "hyper_params = { \n",
    "    \"lr\": 0.1,         # Learning rate\n",
    "    \"epoch\": 100,       # Number of training epochs to train for\n",
    "    \"wordNgrams\": 2,    # Number of word n-grams to consider during training\n",
    "    \"minn\": 2, \n",
    "    \"maxn\": 5\n",
    "}\n",
    "\n",
    "model = fasttext.train_supervised(input=\"files/fileresults.txt\", **hyper_params)"
   ]
  },
  {
   "cell_type": "code",
   "execution_count": null,
   "metadata": {},
   "outputs": [],
   "source": [
    "with open(\"files/dataset_40757_1.txt\") as f:\n",
    "    texts_test = f.readlines()\n",
    "texts_test = [x.strip() for x in texts_test]\n",
    "for text in texts_test:\n",
    "    print(model.predict(text))"
   ]
  },
  {
   "cell_type": "markdown",
   "metadata": {},
   "source": [
    "# Dostoevsky"
   ]
  },
  {
   "cell_type": "code",
   "execution_count": null,
   "metadata": {},
   "outputs": [],
   "source": [
    "from dostoevsky.tokenization import RegexTokenizer\n",
    "from dostoevsky.models import FastTextSocialNetworkModel\n",
    "import numpy as np\n",
    "\n",
    "tokenizer = RegexTokenizer()\n",
    "\n",
    "model = FastTextSocialNetworkModel(tokenizer=tokenizer)\n",
    "\n",
    "with open(\"files/texts_train.txt\") as f:\n",
    "    texts_train = f.readlines()\n",
    "texts_train = [x.strip() for x in texts_train]\n",
    "\n",
    "with open(\"files/scores_train.txt\") as f:\n",
    "    y_train = f.readlines()\n",
    "y_train = np.asarray([x.strip() for x in y_train]).astype(np.float32)\n",
    "\n",
    "with open(\"files/dataset_40757_1.txt\") as f:\n",
    "    texts_test = f.readlines()\n",
    "texts_test = [x.strip() for x in texts_test]\n",
    "\n",
    "results = model.predict(texts_train, k=2)\n",
    "labels = ['label', 'negative', 'neutral', 'positive']\n",
    "with open(\"files/dosto.txt\", \"w\") as f:\n",
    "    f.write(\"label\\tnegative\\tneutral\\tpositive\\n\")\n",
    "    for i in range(len(results)):\n",
    "        sentiment = results[i]\n",
    "        for label in labels:\n",
    "            if label == 'label':\n",
    "                f.write(f\"{y_train[i]}\\t\")\n",
    "            elif label in sentiment:\n",
    "                f.write(f\"{sentiment[label]}\\t\")\n",
    "            else:\n",
    "                f.write(\"0.0\\t\")\n",
    "        f.write(\"\\n\")        "
   ]
  },
  {
   "cell_type": "code",
   "execution_count": null,
   "metadata": {},
   "outputs": [],
   "source": [
    "results = model.predict(texts_test, k=2)\n",
    "labels = ['negative', 'neutral', 'positive']\n",
    "with open(\"files/dosto_test.txt\", \"w\") as f:\n",
    "    f.write(\"negative\\tneutral\\tpositive\\n\")\n",
    "    for i in range(len(results)):\n",
    "        sentiment = results[i]\n",
    "        for label in labels:\n",
    "            if label in sentiment:\n",
    "                f.write(f\"{sentiment[label]}\\t\")\n",
    "            else:\n",
    "                f.write(\"0.0\\t\")\n",
    "        f.write(\"\\n\")        "
   ]
  },
  {
   "cell_type": "code",
   "execution_count": null,
   "metadata": {},
   "outputs": [],
   "source": [
    "import pandas as pd\n",
    "dosto = pd.read_csv(\"files/dosto.csv\")\n",
    "dosto_test = pd.read_csv(\"files/dosto_test.csv\")\n",
    "\n",
    "y_train = np.asarray(dosto['label'])\n",
    "x_train = np.asarray(dosto.loc[:, dosto.columns != 'label'])"
   ]
  },
  {
   "cell_type": "code",
   "execution_count": null,
   "metadata": {},
   "outputs": [],
   "source": [
    "from sklearn.linear_model import SGDRegressor\n",
    "\n",
    "regressor = SGDRegressor()\n",
    "regressor.fit(x_train, y_train)"
   ]
  },
  {
   "cell_type": "code",
   "execution_count": null,
   "metadata": {},
   "outputs": [],
   "source": [
    "res = regressor.predict(np.asarray(dosto_test))\n",
    "for r in res:\n",
    "    print(int(round(r)))"
   ]
  },
  {
   "cell_type": "code",
   "execution_count": null,
   "metadata": {},
   "outputs": [],
   "source": [
    "from sklearn.linear_model import SGDClassifier\n",
    "from sklearn.ensemble import GradientBoostingRegressor\n",
    "from sklearn.neural_network import MLPRegressor\n",
    "\n",
    "regressor = MLPRegressor()\n",
    "regressor.fit(x_train, y_train)\n",
    "res = regressor.predict(np.asarray(dosto_test))\n",
    "for r in res:\n",
    "    print(int(round(r)))"
   ]
  }
 ],
 "metadata": {
  "kernelspec": {
   "display_name": "Python 3",
   "language": "python",
   "name": "python3"
  },
  "language_info": {
   "codemirror_mode": {
    "name": "ipython",
    "version": 3
   },
   "file_extension": ".py",
   "mimetype": "text/x-python",
   "name": "python",
   "nbconvert_exporter": "python",
   "pygments_lexer": "ipython3",
   "version": "3.7.3"
  }
 },
 "nbformat": 4,
 "nbformat_minor": 2
}
